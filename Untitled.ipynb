{
 "cells": [
  {
   "cell_type": "code",
   "execution_count": 2,
   "id": "2a390553-53b5-4611-a2e3-d40f3f518ee8",
   "metadata": {},
   "outputs": [],
   "source": [
    "import pandas as pd\n",
    "import os, sys"
   ]
  },
  {
   "cell_type": "code",
   "execution_count": 14,
   "id": "c850ec89-8581-4a28-adce-382d76d8befd",
   "metadata": {},
   "outputs": [
    {
     "name": "stdout",
     "output_type": "stream",
     "text": [
      "<class 'pandas.core.frame.DataFrame'>\n",
      "Index: 5 entries, 0 to 4\n",
      "Data columns (total 10 columns):\n",
      " #   Column                    Non-Null Count  Dtype  \n",
      "---  ------                    --------------  -----  \n",
      " 0   Name                      5 non-null      object \n",
      " 1   COIN                      5 non-null      object \n",
      " 2   Amount Invested           5 non-null      float64\n",
      " 3   Coin Amount               5 non-null      float64\n",
      " 4   Average Price             5 non-null      float64\n",
      " 5   Current Price             5 non-null      float64\n",
      " 6   Profit/Loss               5 non-null      float64\n",
      " 7   Profit/Loss (%)           5 non-null      float64\n",
      " 8   Total Unrealized Capital  5 non-null      float64\n",
      " 9   Allocation                5 non-null      float64\n",
      "dtypes: float64(8), object(2)\n",
      "memory usage: 440.0+ bytes\n"
     ]
    }
   ],
   "source": [
    "file_path = 'Data/The-Jungle.xlsx'\n",
    "df_ = pd.read_excel(io=file_path,sheet_name=0,header=2).dropna(subset=['COIN'])\n",
    "df_.info()"
   ]
  },
  {
   "cell_type": "code",
   "execution_count": 17,
   "id": "bac8ac4a-5b49-4c3b-ae83-ab7909568055",
   "metadata": {},
   "outputs": [
    {
     "data": {
      "text/html": [
       "<div>\n",
       "<style scoped>\n",
       "    .dataframe tbody tr th:only-of-type {\n",
       "        vertical-align: middle;\n",
       "    }\n",
       "\n",
       "    .dataframe tbody tr th {\n",
       "        vertical-align: top;\n",
       "    }\n",
       "\n",
       "    .dataframe thead th {\n",
       "        text-align: right;\n",
       "    }\n",
       "</style>\n",
       "<table border=\"1\" class=\"dataframe\">\n",
       "  <thead>\n",
       "    <tr style=\"text-align: right;\">\n",
       "      <th></th>\n",
       "      <th>Name</th>\n",
       "      <th>COIN</th>\n",
       "      <th>Amount Invested</th>\n",
       "      <th>Coin Amount</th>\n",
       "      <th>Average Price</th>\n",
       "      <th>Current Price</th>\n",
       "      <th>Profit/Loss</th>\n",
       "      <th>Profit/Loss (%)</th>\n",
       "      <th>Total Unrealized Capital</th>\n",
       "      <th>Allocation</th>\n",
       "    </tr>\n",
       "  </thead>\n",
       "  <tbody>\n",
       "    <tr>\n",
       "      <th>0</th>\n",
       "      <td>PEPE (Tai)</td>\n",
       "      <td>BTC</td>\n",
       "      <td>24.000000</td>\n",
       "      <td>8885300.00</td>\n",
       "      <td>0.000003</td>\n",
       "      <td>0.000011</td>\n",
       "      <td>71.952355</td>\n",
       "      <td>2.998015</td>\n",
       "      <td>95.952355</td>\n",
       "      <td>0.153836</td>\n",
       "    </tr>\n",
       "    <tr>\n",
       "      <th>1</th>\n",
       "      <td>PEPE (Truong)</td>\n",
       "      <td>PEPE</td>\n",
       "      <td>16.000000</td>\n",
       "      <td>5923533.00</td>\n",
       "      <td>0.000003</td>\n",
       "      <td>0.000011</td>\n",
       "      <td>47.968233</td>\n",
       "      <td>2.998015</td>\n",
       "      <td>63.968233</td>\n",
       "      <td>0.102558</td>\n",
       "    </tr>\n",
       "    <tr>\n",
       "      <th>2</th>\n",
       "      <td>PEPE (Loc)</td>\n",
       "      <td>JUP</td>\n",
       "      <td>16.000000</td>\n",
       "      <td>5923533.00</td>\n",
       "      <td>0.000003</td>\n",
       "      <td>0.000011</td>\n",
       "      <td>47.968233</td>\n",
       "      <td>2.998015</td>\n",
       "      <td>63.968233</td>\n",
       "      <td>0.102558</td>\n",
       "    </tr>\n",
       "    <tr>\n",
       "      <th>3</th>\n",
       "      <td>PEPE (Danh)</td>\n",
       "      <td>PEPE</td>\n",
       "      <td>50.009859</td>\n",
       "      <td>4751982.00</td>\n",
       "      <td>0.000011</td>\n",
       "      <td>0.000011</td>\n",
       "      <td>1.306795</td>\n",
       "      <td>0.026131</td>\n",
       "      <td>51.316654</td>\n",
       "      <td>0.320556</td>\n",
       "    </tr>\n",
       "    <tr>\n",
       "      <th>4</th>\n",
       "      <td>WLD (Danh)</td>\n",
       "      <td>WLD</td>\n",
       "      <td>50.000000</td>\n",
       "      <td>24.92</td>\n",
       "      <td>2.006421</td>\n",
       "      <td>1.945000</td>\n",
       "      <td>-1.530600</td>\n",
       "      <td>-0.030612</td>\n",
       "      <td>48.469400</td>\n",
       "      <td>0.320493</td>\n",
       "    </tr>\n",
       "  </tbody>\n",
       "</table>\n",
       "</div>"
      ],
      "text/plain": [
       "            Name  COIN  Amount Invested  Coin Amount  Average Price  \\\n",
       "0     PEPE (Tai)   BTC        24.000000   8885300.00       0.000003   \n",
       "1  PEPE (Truong)  PEPE        16.000000   5923533.00       0.000003   \n",
       "2     PEPE (Loc)   JUP        16.000000   5923533.00       0.000003   \n",
       "3    PEPE (Danh)  PEPE        50.009859   4751982.00       0.000011   \n",
       "4     WLD (Danh)   WLD        50.000000        24.92       2.006421   \n",
       "\n",
       "   Current Price  Profit/Loss  Profit/Loss (%)  Total Unrealized Capital  \\\n",
       "0       0.000011    71.952355         2.998015                 95.952355   \n",
       "1       0.000011    47.968233         2.998015                 63.968233   \n",
       "2       0.000011    47.968233         2.998015                 63.968233   \n",
       "3       0.000011     1.306795         0.026131                 51.316654   \n",
       "4       1.945000    -1.530600        -0.030612                 48.469400   \n",
       "\n",
       "   Allocation  \n",
       "0    0.153836  \n",
       "1    0.102558  \n",
       "2    0.102558  \n",
       "3    0.320556  \n",
       "4    0.320493  "
      ]
     },
     "execution_count": 17,
     "metadata": {},
     "output_type": "execute_result"
    }
   ],
   "source": [
    "df_"
   ]
  },
  {
   "cell_type": "code",
   "execution_count": 16,
   "id": "47c33ab1-f275-47ba-9dc4-989db70e991f",
   "metadata": {},
   "outputs": [
    {
     "data": {
      "text/plain": [
       "['BTC', 'PEPE', 'JUP', 'WLD']"
      ]
     },
     "execution_count": 16,
     "metadata": {},
     "output_type": "execute_result"
    }
   ],
   "source": [
    "df_['COIN'].unique().tolist()"
   ]
  }
 ],
 "metadata": {
  "kernelspec": {
   "display_name": "Python 3 (ipykernel)",
   "language": "python",
   "name": "python3"
  },
  "language_info": {
   "codemirror_mode": {
    "name": "ipython",
    "version": 3
   },
   "file_extension": ".py",
   "mimetype": "text/x-python",
   "name": "python",
   "nbconvert_exporter": "python",
   "pygments_lexer": "ipython3",
   "version": "3.11.10"
  }
 },
 "nbformat": 4,
 "nbformat_minor": 5
}
